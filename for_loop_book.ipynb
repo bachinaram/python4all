{
  "nbformat": 4,
  "nbformat_minor": 0,
  "metadata": {
    "colab": {
      "name": "for_loop_book.ipynb",
      "provenance": [],
      "authorship_tag": "ABX9TyOIrCR1IgF7+fKmlXaWwvpd",
      "include_colab_link": true
    },
    "kernelspec": {
      "name": "python3",
      "display_name": "Python 3"
    },
    "language_info": {
      "name": "python"
    }
  },
  "cells": [
    {
      "cell_type": "markdown",
      "metadata": {
        "id": "view-in-github",
        "colab_type": "text"
      },
      "source": [
        "<a href=\"https://colab.research.google.com/github/bachinaram/python4all/blob/main/for_loop_book.ipynb\" target=\"_parent\"><img src=\"https://colab.research.google.com/assets/colab-badge.svg\" alt=\"Open In Colab\"/></a>"
      ]
    },
    {
      "cell_type": "code",
      "metadata": {
        "colab": {
          "base_uri": "https://localhost:8080/"
        },
        "id": "OL-be6m1bdUW",
        "outputId": "ca9e7258-9473-48b8-b28f-241d2b0c8e08"
      },
      "source": [
        "name"
      ],
      "execution_count": 3,
      "outputs": [
        {
          "output_type": "execute_result",
          "data": {
            "text/plain": [
              "5"
            ]
          },
          "metadata": {
            "tags": []
          },
          "execution_count": 3
        }
      ]
    },
    {
      "cell_type": "code",
      "metadata": {
        "id": "X7SVcoRrdv3f",
        "outputId": "e655c9f0-fb55-4246-8292-2025944def01",
        "colab": {
          "base_uri": "https://localhost:8080/"
        }
      },
      "source": [
        "name=\"Gaurav\"\n",
        "my_list=[1,2,3,'Gaurav']\n",
        "\n",
        "#for eachcharacter in 'gaurav'\n",
        "for i in name:\n",
        "  print(i)\n",
        "\n",
        "print()\n",
        "\n",
        "for eachChar in name:\n",
        "  print(eachChar)\n",
        "\n",
        "print()\n",
        "#we can use direct sequence data or data(sequence) assigned to variable\n",
        "for j in \"Pavan\":\n",
        "  print(j)\n",
        "print()\n"
      ],
      "execution_count": 8,
      "outputs": [
        {
          "output_type": "stream",
          "text": [
            "G\n",
            "a\n",
            "u\n",
            "r\n",
            "a\n",
            "v\n",
            "\n",
            "G\n",
            "a\n",
            "u\n",
            "r\n",
            "a\n",
            "v\n",
            "\n",
            "P\n",
            "a\n",
            "v\n",
            "a\n",
            "n\n"
          ],
          "name": "stdout"
        }
      ]
    },
    {
      "cell_type": "code",
      "metadata": {
        "colab": {
          "base_uri": "https://localhost:8080/"
        },
        "id": "cyWWpOqlbsTP",
        "outputId": "dec3bada-c00b-4dd7-e3d7-d38ab1d82a5c"
      },
      "source": [
        "#for eachcharacter in 'gaurav'\n",
        "name=\"Pavan\"\n",
        "print(name)\n",
        "for i in name:\n",
        "  print(i,end='')\n"
      ],
      "execution_count": 12,
      "outputs": [
        {
          "output_type": "stream",
          "text": [
            "Pavan\n",
            "Pavan"
          ],
          "name": "stdout"
        }
      ]
    },
    {
      "cell_type": "code",
      "metadata": {
        "id": "TioxOM8zfkA-",
        "outputId": "04da5b4c-ece9-4168-8a1f-c92a7e66dc41",
        "colab": {
          "base_uri": "https://localhost:8080/"
        }
      },
      "source": [
        "my_list=[1,2,3,'Gaurav']\n",
        "for eachElement in my_list:\n",
        "  print(eachElement)\n",
        "\n",
        "\n",
        "for eachElement in my_list:\n",
        "  print(eachElement,end='')\n",
        "\n",
        "print()\n",
        "\n",
        "my_tuple=(4,2,3,'Pavan')\n",
        "for j in my_tuple:\n",
        "  print(j)"
      ],
      "execution_count": 17,
      "outputs": [
        {
          "output_type": "stream",
          "text": [
            "1\n",
            "2\n",
            "3\n",
            "Gaurav\n",
            "123Gaurav\n",
            "4\n",
            "2\n",
            "3\n",
            "Pavan\n"
          ],
          "name": "stdout"
        }
      ]
    },
    {
      "cell_type": "code",
      "metadata": {
        "id": "b5XlPvA-gcCi",
        "outputId": "e465579d-e28d-4834-a132-fbddd8a3e873",
        "colab": {
          "base_uri": "https://localhost:8080/"
        }
      },
      "source": [
        "#range(10) 0-10, total 11 number always starts\n",
        "for eachNumber in range(11):\n",
        "  print(eachNumber,end='')\n",
        "\n",
        "print()\n",
        "\n",
        "for i in range(5,11):\n",
        "  print(i,end='')\n",
        "\n",
        "print()\n",
        "\n",
        "for i in range(5,12):\n",
        "  print(i)\n",
        "print()\n",
        "\n",
        "2,4,6,8,10\n",
        "for l in range(1,11,2):\n",
        "  print(l)\n",
        "print()\n",
        "\n",
        "for m in range(1,11,3):\n",
        "  print(m,end='')\n",
        "print()"
      ],
      "execution_count": 24,
      "outputs": [
        {
          "output_type": "stream",
          "text": [
            "012345678910\n",
            "5678910\n",
            "5\n",
            "6\n",
            "7\n",
            "8\n",
            "9\n",
            "10\n",
            "11\n",
            "\n",
            "1\n",
            "3\n",
            "5\n",
            "7\n",
            "9\n",
            "\n",
            "14710\n"
          ],
          "name": "stdout"
        }
      ]
    },
    {
      "cell_type": "code",
      "metadata": {
        "id": "0LoyBwyth72I",
        "outputId": "d9a62092-8f7a-4994-a4cb-b96a046b0cf3",
        "colab": {
          "base_uri": "https://localhost:8080/"
        }
      },
      "source": [
        "#when iterating over dictionary it will iterate over keys\n",
        "my_dict1={\n",
        "    \"name\":\"Gaurav\",\n",
        "    \"age\":20,\n",
        "    \"marks\":56\n",
        "    }\n",
        "print(\"Keys are :\",end=\"\")\n",
        "for eachElement in my_dict1:\n",
        "  print(eachElement,\"\",end='')\n",
        "\n"
      ],
      "execution_count": 31,
      "outputs": [
        {
          "output_type": "stream",
          "text": [
            "Keys are :Gaurav 20 56 "
          ],
          "name": "stdout"
        }
      ]
    },
    {
      "cell_type": "code",
      "metadata": {
        "id": "XZsKXo0wkgNe",
        "outputId": "2904ff24-5123-4d0c-d91c-ae678f34f5dd",
        "colab": {
          "base_uri": "https://localhost:8080/"
        }
      },
      "source": [
        "#find the tottal of student marks\n",
        "students_marks=[50,98,67,89,69,77]\n",
        "'''\n",
        "50 asisin this to some temp variablke\n",
        "now get new which is 98\n",
        "50+98\n",
        "add the result temp value\n",
        "'''\n",
        "temp=0\n",
        "for score in students_marks:\n",
        "  temp=temp+score\n",
        "  #temp=0+50 temp=50\n",
        "  #temp=50+98 temp=148\n",
        "  #temp=148+67 temp=2 hundred's\n",
        "  #temp=2hunderes+89 temp\n",
        "  #...\n",
        "  #....\n",
        "print(\"Gaurav your total score is\",temp)\n",
        "print(\"your percentage is\",temp/6)\n",
        "print(\"your percentage is\",temp/len(students_marks),\"%\")\n",
        "\n",
        "450/6\n",
        "print(len(\"hello\"))\n",
        "print(len([50,98,67,89,69,77]))"
      ],
      "execution_count": 36,
      "outputs": [
        {
          "output_type": "stream",
          "text": [
            "Gaurav your total score is 450\n",
            "your percentage is 75.0\n",
            "your percentage is 75.0 %\n",
            "5\n",
            "6\n"
          ],
          "name": "stdout"
        }
      ]
    },
    {
      "cell_type": "code",
      "metadata": {
        "id": "XQQaZMgNl9ir",
        "outputId": "4582c612-d81b-4c5b-d5b0-107305296844",
        "colab": {
          "base_uri": "https://localhost:8080/"
        }
      },
      "source": [
        "\"\"\"my_list=[1,2,3,'Gaurav']\n",
        "for eachElement in my_list:\n",
        "  print(eachElement)\"\"\"\n",
        "'''\n",
        "mylist1=[[1,2,3], [4,5,6], [8,9,10.7384]]\n",
        "for eachList in mylist1:\n",
        "  print(eachList)'''\n",
        "\n",
        "mylist1=[[1,2,3], [4,5,6], [8,9,10.7384]]\n",
        "for eachList1 in mylist1:\n",
        "  print(eachList1)\n",
        "  for eachValue in eachList1:\n",
        "    print(eachValue)\n"
      ],
      "execution_count": 42,
      "outputs": [
        {
          "output_type": "stream",
          "text": [
            "[1, 2, 3]\n",
            "1\n",
            "2\n",
            "3\n",
            "[4, 5, 6]\n",
            "4\n",
            "5\n",
            "6\n",
            "[8, 9, 10.7384]\n",
            "8\n",
            "9\n",
            "10.7384\n"
          ],
          "name": "stdout"
        }
      ]
    },
    {
      "cell_type": "code",
      "metadata": {
        "id": "AEmZ7R1LoQz4",
        "outputId": "5d0ac364-7bd6-4e80-e89c-4de1e4201f5f",
        "colab": {
          "base_uri": "https://localhost:8080/"
        }
      },
      "source": [
        "#540 table output\n",
        "for i in range(1,11):\n",
        "  print(\"540 * {} = \".format(i),540*i)"
      ],
      "execution_count": 45,
      "outputs": [
        {
          "output_type": "stream",
          "text": [
            "540 * 1 =  540\n",
            "540 * 2 =  1080\n",
            "540 * 3 =  1620\n",
            "540 * 4 =  2160\n",
            "540 * 5 =  2700\n",
            "540 * 6 =  3240\n",
            "540 * 7 =  3780\n",
            "540 * 8 =  4320\n",
            "540 * 9 =  4860\n",
            "540 * 10 =  5400\n"
          ],
          "name": "stdout"
        }
      ]
    },
    {
      "cell_type": "code",
      "metadata": {
        "id": "hQ1S8SZsq-IO",
        "outputId": "566ba300-117e-4e9a-cc49-846ce0e82c8e",
        "colab": {
          "base_uri": "https://localhost:8080/"
        }
      },
      "source": [
        "'''\n",
        "*\n",
        "**\n",
        "***\n",
        "****\n",
        "*****\n",
        "'''\n",
        "'''\n",
        "i=1, range(1)=0\n",
        "i=2, range(2)=0,1\n",
        "i=3, range(3)=0,1,2\n",
        "i=4, range(4)=0,1,2,3\n",
        "i=5, range(5)=0,1,2,3,4\n",
        "'''\n",
        "\n",
        "for i in range(1,6):\n",
        "  for j in range(i):\n",
        "    print('*',end=\"\")\n",
        "  print()\n"
      ],
      "execution_count": 50,
      "outputs": [
        {
          "output_type": "stream",
          "text": [
            "*\n",
            "**\n",
            "***\n",
            "****\n",
            "*****\n"
          ],
          "name": "stdout"
        }
      ]
    },
    {
      "cell_type": "code",
      "metadata": {
        "id": "mEc5ZiW7r6SG"
      },
      "source": [
        ""
      ],
      "execution_count": null,
      "outputs": []
    }
  ]
}