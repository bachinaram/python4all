{
  "nbformat": 4,
  "nbformat_minor": 0,
  "metadata": {
    "colab": {
      "name": "strings.ipynb",
      "provenance": [],
      "authorship_tag": "ABX9TyM/mRmDVbbjNM0NSCA+ywLW",
      "include_colab_link": true
    },
    "kernelspec": {
      "name": "python3",
      "display_name": "Python 3"
    },
    "language_info": {
      "name": "python"
    }
  },
  "cells": [
    {
      "cell_type": "markdown",
      "metadata": {
        "id": "view-in-github",
        "colab_type": "text"
      },
      "source": [
        "<a href=\"https://colab.research.google.com/github/bachinaram/python4all/blob/main/code%5Ccolab-notebooks%5Cstrings.ipynb\" target=\"_parent\"><img src=\"https://colab.research.google.com/assets/colab-badge.svg\" alt=\"Open In Colab\"/></a>"
      ]
    },
    {
      "cell_type": "markdown",
      "metadata": {
        "id": "VYj5g6Ed-0K1"
      },
      "source": [
        "##**Python strings**\n",
        "# class starts at 7:35\n",
        "We are going to have long session today \n",
        "end time 9 - 9-30AM\n",
        "\n",
        "\n",
        "1.   upper()\n",
        "2.   lower()\n",
        "3. capialize()\n",
        "\n",
        "\n"
      ]
    },
    {
      "cell_type": "code",
      "metadata": {
        "colab": {
          "base_uri": "https://localhost:8080/"
        },
        "id": "MEXu18_k_EYd",
        "outputId": "e69ae594-d42a-4494-d284-766a6cac7bc2"
      },
      "source": [
        "my_text=\"hello, \" + \"students\"\n",
        "print(my_text)\n",
        "\n"
      ],
      "execution_count": 2,
      "outputs": [
        {
          "output_type": "stream",
          "text": [
            "hello,students\n"
          ],
          "name": "stdout"
        }
      ]
    },
    {
      "cell_type": "code",
      "metadata": {
        "colab": {
          "base_uri": "https://localhost:8080/"
        },
        "id": "w1wlYCJbBZ9v",
        "outputId": "98b750ef-8040-4a22-e794-5aa6e73748f3"
      },
      "source": [
        "print(\"hello \" + \"students\")\n",
        "print(\"hello\" + \",\" + \" \" + \"students\")\n",
        "print(\"hello\" + \",\" + \" \" + \"students\" + str(10))\n",
        "\n",
        "my_message=\"\"\"hello students how are you doing\n",
        "how is your class\n",
        "how many students in calss\"\"\"\n",
        "\n",
        "print(my_message)\n"
      ],
      "execution_count": 8,
      "outputs": [
        {
          "output_type": "stream",
          "text": [
            "hello students\n",
            "hello, students\n",
            "hello, students10\n",
            "hello students how are you doing\n",
            "how is your class\n",
            "how many students in calss\n"
          ],
          "name": "stdout"
        }
      ]
    },
    {
      "cell_type": "code",
      "metadata": {
        "colab": {
          "base_uri": "https://localhost:8080/"
        },
        "id": "3UzMkoIQBl2Y",
        "outputId": "fb7fd4ac-ee27-4cf3-c6bd-1a73404af3e2"
      },
      "source": [
        "#function vs method\n",
        "\"\"\"str()\n",
        "int()\n",
        "type()\n",
        "\n",
        "str.upper()\n",
        "str.lower()\n",
        "str.capitalize()\n",
        "\"\"\"\n",
        "msg=\"hello\"\n",
        "msg2=10\n",
        "str(msg2)\n",
        "\n",
        "type(str(msg2))\n"
      ],
      "execution_count": 15,
      "outputs": [
        {
          "output_type": "execute_result",
          "data": {
            "text/plain": [
              "str"
            ]
          },
          "metadata": {
            "tags": []
          },
          "execution_count": 15
        }
      ]
    },
    {
      "cell_type": "code",
      "metadata": {
        "colab": {
          "base_uri": "https://localhost:8080/"
        },
        "id": "INZqeRpICa7M",
        "outputId": "277cc4cb-b20a-400c-e187-a293898c23c9"
      },
      "source": [
        "statement1=\"this is a python class\"\n",
        "statement2=\"THIS IS A JAVA CLASS\"\n",
        "\n",
        "print(statement1)\n",
        "print(statement2)\n",
        "print()\n",
        "print(type(statement1))\n",
        "print(statement1.upper())\n",
        "\n",
        "print(statement2.lower())"
      ],
      "execution_count": 21,
      "outputs": [
        {
          "output_type": "stream",
          "text": [
            "this is a python class\n",
            "THIS IS A JAVA CLASS\n",
            "\n",
            "<class 'str'>\n",
            "THIS IS A PYTHON CLASS\n",
            "this is a java class\n"
          ],
          "name": "stdout"
        }
      ]
    },
    {
      "cell_type": "code",
      "metadata": {
        "colab": {
          "base_uri": "https://localhost:8080/"
        },
        "id": "qr_J1zD7EuAg",
        "outputId": "221875b9-307b-4642-9e4a-bdb6edf93add"
      },
      "source": [
        "statement1=\"this is a python class\"\n",
        "statement2=\"THIS IS A JAVA CLASS\"\n",
        "statement3=\"this Is a PythOn clAss\"\n",
        "\n",
        "print(statement1.capitalize())\n",
        "print(statement2.capitalize())\n",
        "print(statement3.capitalize())"
      ],
      "execution_count": 24,
      "outputs": [
        {
          "output_type": "stream",
          "text": [
            "This is a python class\n",
            "This is a java class\n",
            "This is a python class\n"
          ],
          "name": "stdout"
        }
      ]
    },
    {
      "cell_type": "code",
      "metadata": {
        "colab": {
          "base_uri": "https://localhost:8080/"
        },
        "id": "aieCOLA1F2bt",
        "outputId": "518c6a05-ec5d-4c27-d17d-4e2d03a57f5c"
      },
      "source": [
        "statement1=\"this is a python class\"\n",
        "statement2=\"THIS IS A JAVA CLASS\"\n",
        "statement3=\"this Is a PythOn clAss\"\n",
        "\n",
        "print(statement1.swapcase())\n",
        "print(statement2.swapcase())\n",
        "print(statement3.swapcase())"
      ],
      "execution_count": 25,
      "outputs": [
        {
          "output_type": "stream",
          "text": [
            "THIS IS A PYTHON CLASS\n",
            "this is a java class\n",
            "THIS iS A pYTHoN CLaSS\n"
          ],
          "name": "stdout"
        }
      ]
    },
    {
      "cell_type": "code",
      "metadata": {
        "colab": {
          "base_uri": "https://localhost:8080/"
        },
        "id": "EwNS9-ZkGt29",
        "outputId": "1056e575-b20b-47ba-9217-20e52adabf87"
      },
      "source": [
        "statement1=\"this is a python class\"\n",
        "statement2=\"THIS IS A JAVA CLASS\"\n",
        "statement3=\"this Is a PythOn clAss\"\n",
        "\n",
        "if statement1 == statement3:\n",
        "  print(\"both are same\")\n",
        "else:\n",
        "  print(\"both are different\")"
      ],
      "execution_count": 26,
      "outputs": [
        {
          "output_type": "stream",
          "text": [
            "both are different\n"
          ],
          "name": "stdout"
        }
      ]
    },
    {
      "cell_type": "code",
      "metadata": {
        "colab": {
          "base_uri": "https://localhost:8080/"
        },
        "id": "AUa0esWQHN7N",
        "outputId": "daf6a11c-979b-4428-eae4-f33935b796d7"
      },
      "source": [
        "statement1=\"this is a python class\"\n",
        "statement4=\"THIS IS A PYTHON CLASS\"\n",
        "\n",
        "\n",
        "if statement1.upper() == statement3.upper():\n",
        "  print(\"both are same\")\n",
        "else:\n",
        "  print(\"both are different\")\n",
        "\n",
        "if statement1.lower() == statement3.lower():\n",
        "  print(\"both are same\")\n",
        "else:\n",
        "  print(\"both are different\")\n",
        "\n",
        "if statement1.upper() == statement4:\n",
        "  print(\"both are same\")\n",
        "else:\n",
        "  print(\"both are different\")\n"
      ],
      "execution_count": 29,
      "outputs": [
        {
          "output_type": "stream",
          "text": [
            "both are same\n",
            "both are same\n",
            "both are same\n"
          ],
          "name": "stdout"
        }
      ]
    },
    {
      "cell_type": "code",
      "metadata": {
        "colab": {
          "base_uri": "https://localhost:8080/"
        },
        "id": "Zi5iDSmtHY3z",
        "outputId": "e3d5e2ef-452f-465c-ba70-615b4727793e"
      },
      "source": [
        "statement1=\"this is a python class\"\n",
        "new_statement=statement1.swapcase()\n",
        "\n",
        "print(new_statement)"
      ],
      "execution_count": 30,
      "outputs": [
        {
          "output_type": "stream",
          "text": [
            "THIS IS A PYTHON CLASS\n"
          ],
          "name": "stdout"
        }
      ]
    },
    {
      "cell_type": "code",
      "metadata": {
        "colab": {
          "base_uri": "https://localhost:8080/"
        },
        "id": "T4A8h6AVIDJ6",
        "outputId": "a8b063f5-d535-46dc-b54c-fb2f2fa14a54"
      },
      "source": [
        "#split method\n",
        "\n",
        "message =\"hello, students\"\n",
        "\n",
        "#print(message.split(','))\n",
        "#print(message.split(' '))\n",
        "message1 =\"wow! python is cool\"\n",
        "#print(message1.split('!'))\n",
        "my_list = message1.split(' ')\n",
        "print(my_list)\n",
        "\n",
        "for eachString in my_list:\n",
        "  if eachString == 'is':\n",
        "    print(\"you got -  is, here\")\n",
        "\n",
        "if 'is' in my_list:\n",
        "  print(\"yes we have is in list\")"
      ],
      "execution_count": 39,
      "outputs": [
        {
          "output_type": "stream",
          "text": [
            "['wow!', 'python', 'is', 'cool']\n",
            "you got -  is, here\n",
            "yes we have is in list\n"
          ],
          "name": "stdout"
        }
      ]
    },
    {
      "cell_type": "code",
      "metadata": {
        "colab": {
          "base_uri": "https://localhost:8080/"
        },
        "id": "JImq7yrLIZ53",
        "outputId": "7eb97d77-736a-49f7-a009-c693d28cadab"
      },
      "source": [
        "msg=\"wow!super!wonderful\"\n",
        "print(msg.split('!'))"
      ],
      "execution_count": 40,
      "outputs": [
        {
          "output_type": "stream",
          "text": [
            "['wow', 'super', 'wonderful']\n"
          ],
          "name": "stdout"
        }
      ]
    },
    {
      "cell_type": "code",
      "metadata": {
        "colab": {
          "base_uri": "https://localhost:8080/"
        },
        "id": "I5LrVDoIKiNk",
        "outputId": "12d0c58a-ccb8-4822-a5a0-64afdfda0829"
      },
      "source": [
        "#replace\n",
        "#replace(oldstr,newstr,occurence)\n",
        "statement1 = 'I have many debit cards and many debit bank accounts and many debit messages'\n",
        "print(statement1.replace('debit','credit'))\n",
        "print(statement1.replace('debit','credit',1))\n",
        "print(statement1.replace('debit','credit',2))\n",
        "print(statement1.replace('debit','credit',3))\n",
        "\n",
        "print(statement1.replace('debit','credit'.upper()))"
      ],
      "execution_count": 44,
      "outputs": [
        {
          "output_type": "stream",
          "text": [
            "I have many credit cards and many credit bank accounts and many credit messages\n",
            "I have many credit cards and many debit bank accounts and many debit messages\n",
            "I have many credit cards and many credit bank accounts and many debit messages\n",
            "I have many credit cards and many credit bank accounts and many credit messages\n",
            "I have many CREDIT cards and many CREDIT bank accounts and many CREDIT messages\n"
          ],
          "name": "stdout"
        }
      ]
    },
    {
      "cell_type": "code",
      "metadata": {
        "colab": {
          "base_uri": "https://localhost:8080/"
        },
        "id": "9ZLI2CZeLSuN",
        "outputId": "88d73d2e-aa0e-4763-dd9f-ff1aae523d4e"
      },
      "source": [
        "#isdigit() isupper() islower() startswith() endswith()\n",
        "statement1=\"this is a python class\"\n",
        "statement2=\"THIS IS A JAVA CLASS\"\n",
        "statement3=\"this Is a PythOn clAss\"\n",
        "statement4=\"234\"\n",
        "\n",
        "num=10\n",
        "\n",
        "print(statement4.isdigit())\n",
        "print(statement3.isdigit())\n",
        "\n",
        "if statement4.isdigit():\n",
        "  print(\"you have defined integer in string, so better change it\")\n",
        "  statement4=int(statement4)\n",
        "  print(type(statement4))\n",
        "  num=10+statement4\n",
        "  print(num)\n",
        "else:\n",
        "  print(\"this is not a number\")"
      ],
      "execution_count": 50,
      "outputs": [
        {
          "output_type": "stream",
          "text": [
            "True\n",
            "False\n",
            "you have defined integer in string, so better change it\n",
            "<class 'int'>\n",
            "244\n"
          ],
          "name": "stdout"
        }
      ]
    },
    {
      "cell_type": "code",
      "metadata": {
        "colab": {
          "base_uri": "https://localhost:8080/"
        },
        "id": "gumVEnwqMgiD",
        "outputId": "1cd2644f-156d-41e6-84fd-b844c3de73bd"
      },
      "source": [
        "statement1=\"this is a python class\"\n",
        "statement2=\"THIS IS A JAVA CLASS\"\n",
        "statement3=\"this Is a PythOn clAss\"\n",
        "\n",
        "print(statement1.isupper())\n",
        "print(statement2.isupper())\n",
        "\n",
        "print(statement1.islower())\n",
        "print(statement2.islower())\n",
        "print(statement3.islower())\n",
        "\n",
        "if statement1.upper().isupper():\n",
        "  print(\"everthing is upper now\")\n",
        "else:\n",
        "  print(\"its not upper\")"
      ],
      "execution_count": 54,
      "outputs": [
        {
          "output_type": "stream",
          "text": [
            "False\n",
            "True\n",
            "True\n",
            "False\n",
            "False\n",
            "everthing is upper now\n"
          ],
          "name": "stdout"
        }
      ]
    },
    {
      "cell_type": "code",
      "metadata": {
        "colab": {
          "base_uri": "https://localhost:8080/"
        },
        "id": "mg2tPubJN-ff",
        "outputId": "6ae943bf-a860-4130-b90a-6ac7b4aede15"
      },
      "source": [
        "#str.startswith()\n",
        "msg=\"hello students\"\n",
        "print(msg.startswith('Hello'))\n",
        "print(msg.startswith('hello'))\n",
        "print(msg.startswith('h'))\n",
        "\n",
        "msg=\"hi hello students\"\n",
        "if msg.startswith('hi'):\n",
        "  print(\"hi\")\n",
        "else:\n",
        "  print(\"hello\")"
      ],
      "execution_count": 57,
      "outputs": [
        {
          "output_type": "stream",
          "text": [
            "False\n",
            "True\n",
            "True\n",
            "hi\n"
          ],
          "name": "stdout"
        }
      ]
    },
    {
      "cell_type": "code",
      "metadata": {
        "colab": {
          "base_uri": "https://localhost:8080/"
        },
        "id": "o0_1xx8pO9vT",
        "outputId": "573cbf71-0c2c-4d05-b0c4-ddbfb376e9c5"
      },
      "source": [
        "#str.endswith()\n",
        "msg=\"hello students\"\n",
        "print(msg.endswith('Hello'))\n",
        "print(msg.endswith('student'))\n",
        "print(msg.endswith('students'))\n",
        "print()\n",
        "print(msg.endswith('nts'))\n",
        "print()\n",
        "#msg=\"hi hello students\"\n",
        "if msg.endswith('s'):\n",
        "  print(\"hi\")\n",
        "else:\n",
        "  print(\"hello\")"
      ],
      "execution_count": 59,
      "outputs": [
        {
          "output_type": "stream",
          "text": [
            "False\n",
            "False\n",
            "True\n",
            "\n",
            "True\n",
            "\n",
            "hi\n"
          ],
          "name": "stdout"
        }
      ]
    },
    {
      "cell_type": "code",
      "metadata": {
        "colab": {
          "base_uri": "https://localhost:8080/"
        },
        "id": "yO_PmRL9PnNn",
        "outputId": "e6853da9-1707-4c4c-8a2b-7a477a87716a"
      },
      "source": [
        "'''\n",
        "h  e  l  l  o     s  t  u  d  e   n   t   s\n",
        "0  1  2  3  4  5  6  7  8  9  10  11  12  13\n",
        "\n",
        " h   e   l   l   o        s   t   u   d   e   n   t   s\n",
        "-14 -13 -12 -11 -10  -9  -8  -7  -6  -5  -4  -3  -2  -1   \n",
        "\n",
        "'''\n",
        "message = \"hello students\"\n",
        "\n",
        "print(message)\n",
        "print(message[0])\n",
        "print(message[9])\n",
        "print(message[12])"
      ],
      "execution_count": 63,
      "outputs": [
        {
          "output_type": "stream",
          "text": [
            "hello students\n",
            "h\n",
            "d\n",
            "t\n"
          ],
          "name": "stdout"
        }
      ]
    },
    {
      "cell_type": "code",
      "metadata": {
        "colab": {
          "base_uri": "https://localhost:8080/"
        },
        "id": "m7zn3YRqQ3jT",
        "outputId": "a2842ff8-28c5-4554-e1cd-43ebfc2b9637"
      },
      "source": [
        "'''\n",
        "h  e  l  l  o     s  t  u  d  e   n   t   s\n",
        "0  1  2  3  4  5  6  7  8  9  10  11  12  13\n",
        "\n",
        " h   e   l   l   o        s   t   u   d   e   n   t   s\n",
        "-14 -13 -12 -11 -10  -9  -8  -7  -6  -5  -4  -3  -2  -1   \n",
        "\n",
        "'''\n",
        "message = \"hello students\"\n",
        "print(message[1:])\n",
        "print(message[6:])\n",
        "print(message[11:])"
      ],
      "execution_count": 66,
      "outputs": [
        {
          "output_type": "stream",
          "text": [
            "ello students\n",
            "students\n",
            "nts\n"
          ],
          "name": "stdout"
        }
      ]
    },
    {
      "cell_type": "code",
      "metadata": {
        "colab": {
          "base_uri": "https://localhost:8080/"
        },
        "id": "fZ3n96kaReIa",
        "outputId": "d1c13124-70e0-41c2-ed47-8a733250d4d1"
      },
      "source": [
        "'''\n",
        "h  e  l  l  o     s  t  u  d  e   n   t   s\n",
        "0  1  2  3  4  5  6  7  8  9  10  11  12  13\n",
        "\n",
        " h   e   l   l   o        s   t   u   d   e   n   t   s\n",
        "-14 -13 -12 -11 -10  -9  -8  -7  -6  -5  -4  -3  -2  -1   \n",
        "\n",
        "'''\n",
        "message = \"hello students\"\n",
        "print(message[0:5])\n",
        "print(message[1:10])\n"
      ],
      "execution_count": 69,
      "outputs": [
        {
          "output_type": "stream",
          "text": [
            "hello\n",
            "ello stud\n"
          ],
          "name": "stdout"
        }
      ]
    },
    {
      "cell_type": "code",
      "metadata": {
        "colab": {
          "base_uri": "https://localhost:8080/"
        },
        "id": "xUxzg6tZSFgs",
        "outputId": "3f8b0a11-0b0d-4082-c012-0ce7c27559d5"
      },
      "source": [
        "'''\n",
        "h  e  l  l  o     s  t  u  d  e   n   t   s\n",
        "0  1  2  3  4  5  6  7  8  9  10  11  12  13\n",
        "\n",
        " h   e   l   l   o        s   t   u   d   e   n   t   s\n",
        "-14 -13 -12 -11 -10  -9  -8  -7  -6  -5  -4  -3  -2  -1   \n",
        "\n",
        "'''\n",
        "message = \"hello students\"\n",
        "print(message[1:12])\n",
        "print(message[1:12:1])\n",
        "print(message[1:12:2])\n",
        "print(message[1:12:3])"
      ],
      "execution_count": 73,
      "outputs": [
        {
          "output_type": "stream",
          "text": [
            "ello studen\n",
            "ello studen\n",
            "el tdn\n",
            "eote\n"
          ],
          "name": "stdout"
        }
      ]
    },
    {
      "cell_type": "code",
      "metadata": {
        "colab": {
          "base_uri": "https://localhost:8080/"
        },
        "id": "3p_mUGx7S8Mn",
        "outputId": "b7919ffa-19f2-4bbb-b3c2-8f91b1db40ec"
      },
      "source": [
        "'''\n",
        "h  e  l  l  o     s  t  u  d  e   n   t   s\n",
        "0  1  2  3  4  5  6  7  8  9  10  11  12  13\n",
        "\n",
        " h   e   l   l   o        s   t   u   d   e   n   t   s\n",
        "-14 -13 -12 -11 -10  -9  -8  -7  -6  -5  -4  -3  -2  -1   \n",
        "\n",
        "'''\n",
        "message = \"hello students\"\n",
        "\n",
        "print(message[-14])\n",
        "print(message[-1])\n",
        "print(message[-7])\n",
        "print(message[-10])"
      ],
      "execution_count": 78,
      "outputs": [
        {
          "output_type": "stream",
          "text": [
            "h\n",
            "s\n",
            "t\n",
            "o\n"
          ],
          "name": "stdout"
        }
      ]
    },
    {
      "cell_type": "code",
      "metadata": {
        "colab": {
          "base_uri": "https://localhost:8080/"
        },
        "id": "Xpc55JShUJET",
        "outputId": "a1dbeccd-0355-4a24-a46a-0a092905b847"
      },
      "source": [
        "'''\n",
        "h  e  l  l  o     s  t  u  d  e   n   t   s\n",
        "0  1  2  3  4  5  6  7  8  9  10  11  12  13\n",
        "\n",
        " h   e   l   l   o        s   t   u   d   e   n   t   s\n",
        "-14 -13 -12 -11 -10  -9  -8  -7  -6  -5  -4  -3  -2  -1   \n",
        "\n",
        "'''\n",
        "message = \"hello students\"\n",
        "print(message[-1:])\n",
        "print(message[-2:])\n",
        "print(message[-14:]) #print(message[0:])\n"
      ],
      "execution_count": 83,
      "outputs": [
        {
          "output_type": "stream",
          "text": [
            "s\n",
            "ts\n",
            "hello students\n",
            "hello students\n"
          ],
          "name": "stdout"
        }
      ]
    },
    {
      "cell_type": "code",
      "metadata": {
        "colab": {
          "base_uri": "https://localhost:8080/"
        },
        "id": "X4MYDE2AUtLT",
        "outputId": "3e36dd2c-50bd-460c-fbd0-fe7844ed9547"
      },
      "source": [
        "'''\n",
        "h  e  l  l  o     s  t  u  d  e   n   t   s\n",
        "0  1  2  3  4  5  6  7  8  9  10  11  12  13\n",
        "\n",
        " h   e   l   l   o        s   t   u   d   e   n   t   s\n",
        "-14 -13 -12 -11 -10  -9  -8  -7  -6  -5  -4  -3  -2  -1   \n",
        "\n",
        "'''\n",
        "message = \"hello students\"\n",
        "\n",
        "#print(message[-11:-3])\n",
        "print(message[-11:-13])\n",
        "print(message[-3:-11])"
      ],
      "execution_count": 88,
      "outputs": [
        {
          "output_type": "stream",
          "text": [
            "\n",
            "\n"
          ],
          "name": "stdout"
        }
      ]
    },
    {
      "cell_type": "code",
      "metadata": {
        "colab": {
          "base_uri": "https://localhost:8080/"
        },
        "id": "lPdQhKFqVeFt",
        "outputId": "c0441e11-95b0-4119-f52e-454c49a076be"
      },
      "source": [
        "'''\n",
        "h  e  l  l  o     s  t  u  d  e   n   t   s\n",
        "0  1  2  3  4  5  6  7  8  9  10  11  12  13\n",
        "\n",
        " h   e   l   l   o        s   t   u   d   e   n   t   s\n",
        "-14 -13 -12 -11 -10  -9  -8  -7  -6  -5  -4  -3  -2  -1   \n",
        "\n",
        "'''\n",
        "message = \"hello students\"\n",
        "\n",
        "#slicing startswith,endswith,step\n",
        "#1 positive goes int left to right\n",
        "#-1 negitive goes form right to left\n",
        "\"\"\"\n",
        "print(msg[::])\n",
        "print(msg[::1])\n",
        "print(msg[::-1])\"\"\"\n",
        "\n",
        "\n",
        "print(msg[1::-1])\n",
        "print(msg[1::1])\n",
        "\n",
        "\n",
        "print(msg[6::-1])\n",
        "print(msg[6::1])\n",
        "\n",
        "\n",
        "\n",
        "print(msg[6:1:-1])\n",
        "print(msg[6:11:1])"
      ],
      "execution_count": 95,
      "outputs": [
        {
          "output_type": "stream",
          "text": [
            "eh\n",
            "ello students\n",
            "s olleh\n",
            "students\n"
          ],
          "name": "stdout"
        }
      ]
    },
    {
      "cell_type": "code",
      "metadata": {
        "colab": {
          "base_uri": "https://localhost:8080/"
        },
        "id": "7SzzgPKFWXHz",
        "outputId": "c2e5fe2a-e6de-4915-827a-253d123f845a"
      },
      "source": [
        "'''\n",
        "h  e  l  l  o     s  t  u  d  e   n   t   s\n",
        "0  1  2  3  4  5  6  7  8  9  10  11  12  13\n",
        "\n",
        " h   e   l   l   o        s   t   u   d   e   n   t   s\n",
        "-14 -13 -12 -11 -10  -9  -8  -7  -6  -5  -4  -3  -2  -1   \n",
        "\n",
        "'''\n",
        "message = \"hello students\"\n",
        "\n",
        "#print(msg[6:1:-1])\n",
        "#print(msg[6:11:1])\n",
        "\n",
        "\n",
        "#print(msg[6:-1:-1])\n",
        "#print(msg[6:-1:1])\n",
        "#print(msg[6:11:1])\n",
        "\n",
        "print(msg[6:-13:-1])\n",
        "print(msg[::-1])"
      ],
      "execution_count": 101,
      "outputs": [
        {
          "output_type": "stream",
          "text": [
            "s oll\n",
            "stneduts olleh\n"
          ],
          "name": "stdout"
        }
      ]
    },
    {
      "cell_type": "code",
      "metadata": {
        "id": "G5wELSOuX9eV"
      },
      "source": [
        "#[-1:2:-2]\n",
        "#startswith\n",
        "#which direction with how many steps\n",
        "#endswith checkign factor\n"
      ],
      "execution_count": null,
      "outputs": []
    }
  ]
}