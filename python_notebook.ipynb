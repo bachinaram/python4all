{
  "nbformat": 4,
  "nbformat_minor": 0,
  "metadata": {
    "colab": {
      "name": "python_notebook.ipynb",
      "provenance": [],
      "collapsed_sections": [],
      "authorship_tag": "ABX9TyMsZrzW8j8OC8VKgPDkqRP4",
      "include_colab_link": true
    },
    "kernelspec": {
      "name": "python3",
      "display_name": "Python 3"
    },
    "language_info": {
      "name": "python"
    }
  },
  "cells": [
    {
      "cell_type": "markdown",
      "metadata": {
        "id": "view-in-github",
        "colab_type": "text"
      },
      "source": [
        "<a href=\"https://colab.research.google.com/github/bachinaram/python4all/blob/main/python_notebook.ipynb\" target=\"_parent\"><img src=\"https://colab.research.google.com/assets/colab-badge.svg\" alt=\"Open In Colab\"/></a>"
      ]
    },
    {
      "cell_type": "code",
      "metadata": {
        "colab": {
          "base_uri": "https://localhost:8080/",
          "height": 295
        },
        "id": "mPntmMSWxXoT",
        "outputId": "8303ca64-3871-4d0a-9923-e9de19f1b315"
      },
      "source": [
        "\n",
        "import numpy as np\n",
        "import matplotlib.pyplot as plt\n",
        " \n",
        "  \n",
        "# creating the dataset\n",
        "data = {'C':20, 'Perl':15, 'Java':30,\n",
        "        'Python':35}\n",
        "courses = list(data.keys())\n",
        "values = list(data.values())\n",
        "  \n",
        "fig = plt.figure(figsize = (6, 4))\n",
        " \n",
        "# creating the bar plot\n",
        "plt.bar(courses, values, color ='red',\n",
        "        width = 0.4)\n",
        " \n",
        "plt.xlabel(\"Courses offered\")\n",
        "plt.ylabel(\"No. of students enrolled\")\n",
        "plt.title(\"Students enrolled in different courses\")\n",
        "plt.show()"
      ],
      "execution_count": null,
      "outputs": [
        {
          "output_type": "display_data",
          "data": {
            "image/png": "[encoded data removed]",
            "text/plain": [
              "<Figure size 432x288 with 1 Axes>"
            ]
          },
          "metadata": {
            "tags": [],
            "needs_background": "light"
          }
        }
      ]
    },
    {
      "cell_type": "code",
      "metadata": {
        "colab": {
          "base_uri": "https://localhost:8080/"
        },
        "id": "voFCuRIc2UEn",
        "outputId": "8fb6fcf8-45ef-45ee-bfa3-ff5fe51d9101"
      },
      "source": [
        "10+20"
      ],
      "execution_count": null,
      "outputs": [
        {
          "output_type": "execute_result",
          "data": {
            "text/plain": [
              "30"
            ]
          },
          "metadata": {
            "tags": []
          },
          "execution_count": 11
        }
      ]
    },
    {
      "cell_type": "markdown",
      "metadata": {
        "id": "jR5T_58l2dnc"
      },
      "source": [
        "To run the program you need to press ctrl+enter"
      ]
    },
    {
      "cell_type": "code",
      "metadata": {
        "colab": {
          "base_uri": "https://localhost:8080/"
        },
        "id": "9EednYNT2aLG",
        "outputId": "650239a5-01c1-4a0c-8244-1fc629585e1d"
      },
      "source": [
        "#this is type coversion code, these are exmaples of explicit type conversions\n",
        "result=\"10\"\n",
        "print(type(result))\n",
        "print(float(result))\n",
        "print(int(result))"
      ],
      "execution_count": null,
      "outputs": [
        {
          "output_type": "stream",
          "text": [
            "<class 'str'>\n",
            "10.0\n",
            "10\n"
          ],
          "name": "stdout"
        }
      ]
    },
    {
      "cell_type": "code",
      "metadata": {
        "colab": {
          "base_uri": "https://localhost:8080/"
        },
        "id": "Y7-JlME-3WLx",
        "outputId": "e7eca1fb-eefe-444c-fb09-50f5696d659e"
      },
      "source": [
        "mystring=\"abcdefg\"\n",
        "print(type(mystring))\n",
        "print(list(mystring))\n",
        "print(tuple(mystring))\n",
        "\n",
        "mylist=[\"abc\",10,\"def\",10.5]\n",
        "\n",
        "print(type(mylist))\n",
        "#converting from list to tuple\n",
        "print(tuple(mylist))\n",
        "#converting from list to string\n",
        "changed_string=str(mylist)\n",
        "print(changed_string)\n",
        "print(type(changed_string))\n",
        "\n",
        "#playing with dictionary\n",
        "my_dict={\"name\":\"ram\",\"age\":277,\"score\":67}\n",
        "print(list(my_dict))\n",
        "\n",
        "#example of range conversion to list and tuple\n",
        "my_range=range(10)\n",
        "print(list(my_range))\n",
        "print(tuple(my_range))"
      ],
      "execution_count": null,
      "outputs": [
        {
          "output_type": "stream",
          "text": [
            "<class 'str'>\n",
            "['a', 'b', 'c', 'd', 'e', 'f', 'g']\n",
            "('a', 'b', 'c', 'd', 'e', 'f', 'g')\n",
            "<class 'list'>\n",
            "('abc', 10, 'def', 10.5)\n",
            "['abc', 10, 'def', 10.5]\n",
            "<class 'str'>\n",
            "['name', 'age', 'score']\n",
            "[0, 1, 2, 3, 4, 5, 6, 7, 8, 9]\n",
            "(0, 1, 2, 3, 4, 5, 6, 7, 8, 9)\n"
          ],
          "name": "stdout"
        }
      ]
    },
    {
      "cell_type": "code",
      "metadata": {
        "colab": {
          "base_uri": "https://localhost:8080/"
        },
        "id": "oWgR8yqR5-nR",
        "outputId": "ba962bdc-c0a4-4acc-b0d9-f22bc35b6b3b"
      },
      "source": [
        "#convert list or tuple to dictionary\n",
        "#(1,2) and (3,4) are two tuples\n",
        "#[(1,2),(3,4)] - list of tuples\n",
        "#([(1,2),(3,4)]) -  one big tuple\n",
        "print(dict([(\"student1\",\"hari\"),(\"student2\",\"lakshmi\")]))"
      ],
      "execution_count": null,
      "outputs": [
        {
          "output_type": "stream",
          "text": [
            "{'student1': 'hari', 'student2': 'lakshmi'}\n"
          ],
          "name": "stdout"
        }
      ]
    },
    {
      "cell_type": "markdown",
      "metadata": {
        "id": "oG5lBix18dxi"
      },
      "source": [
        "Operator concepts in python"
      ]
    },
    {
      "cell_type": "code",
      "metadata": {
        "colab": {
          "base_uri": "https://localhost:8080/"
        },
        "id": "GY-nq_7P8ibP",
        "outputId": "e29ef2f3-631a-43b2-a1b8-c009cf06527a"
      },
      "source": [
        "#Arthimetic operator\n",
        "#(+)\n",
        "print(2+3)\n",
        "print(\"hello\"+\" world\")\n",
        "print(10.23+34.12345)\n",
        "#False 0, True 1\n",
        "print(True+True)\n",
        "print(False+True)\n",
        "list1=[\"hello\", \"students\", 10, 3]\n",
        "list2=[\"hai\", \"marks\", 40, 60]\n",
        "list3=list1+list2\n",
        "print(list3)\n",
        "# you cannot add list and tuple\n",
        "\n",
        "#(-)\n",
        "print(2-3)\n",
        "print(10.234-4.546)\n",
        "print(True-True)\n",
        "\n",
        "#(*)\n",
        "print(\"------------------------------\")\n",
        "print(\"-\"*30)\n",
        "mystring1=\"class\"\n",
        "print(mystring1*3)\n",
        "\n",
        "#(/)\n",
        "print(False/10)\n",
        "print(True/3)\n",
        "\n",
        "\n",
        "#floor division\n",
        "print(7/2) #normal division\n",
        "print(7//2) #excludes the decimal point and print least round value\n",
        "\n",
        "#(**)\n",
        "print(2**3)\n",
        "print(25**2)"
      ],
      "execution_count": null,
      "outputs": [
        {
          "output_type": "stream",
          "text": [
            "5\n",
            "hello world\n",
            "44.353449999999995\n",
            "2\n",
            "1\n",
            "['hello', 'students', 10, 3, 'hai', 'marks', 40, 60]\n",
            "-1\n",
            "5.688\n",
            "0\n",
            "------------------------------\n",
            "------------------------------\n",
            "classclassclass\n",
            "0.0\n",
            "0.3333333333333333\n",
            "3.5\n",
            "3\n",
            "8\n",
            "625\n"
          ],
          "name": "stdout"
        }
      ]
    },
    {
      "cell_type": "code",
      "metadata": {
        "colab": {
          "base_uri": "https://localhost:8080/"
        },
        "id": "rKVfGmbNAHM5",
        "outputId": "ce22b2f3-7d41-4d60-a034-69f8b0f84aa9"
      },
      "source": [
        "#assignment operators\n",
        "var1=var2=var3=10\n",
        "\n",
        "var1+=20 #var1=var1+20\n",
        "var2-=30 #var2=var2-30\n",
        "var3*=2 #var3=var3*2\n",
        "print(var1)\n",
        "print(var2)\n",
        "print(var3)"
      ],
      "execution_count": null,
      "outputs": [
        {
          "output_type": "stream",
          "text": [
            "30\n",
            "-20\n",
            "20\n"
          ],
          "name": "stdout"
        }
      ]
    },
    {
      "cell_type": "code",
      "metadata": {
        "colab": {
          "base_uri": "https://localhost:8080/"
        },
        "id": "uEI_-lfA8wQr",
        "outputId": "7603a6a4-578e-4313-e979-785e62abd4b6"
      },
      "source": [
        "#comparision operators\n",
        "#diff between = and ==\n",
        "myvar=10\n",
        "myantvar=20\n",
        "print(myvar==myantvar)\n",
        "\n",
        "print(10==20)\n",
        "print(\"hello\"==\"hello1\")\n",
        "print(False==False)\n",
        "\n",
        "#(!=)\n",
        "\n",
        "print(False!=False)\n",
        "print(10!=10)\n",
        "print(10!=20)\n",
        "#(<)\n",
        "print(10<20)\n",
        "print(20>30)"
      ],
      "execution_count": null,
      "outputs": [
        {
          "output_type": "stream",
          "text": [
            "False\n",
            "False\n",
            "False\n",
            "True\n",
            "False\n",
            "False\n",
            "True\n",
            "True\n",
            "False\n"
          ],
          "name": "stdout"
        }
      ]
    },
    {
      "cell_type": "code",
      "metadata": {
        "colab": {
          "base_uri": "https://localhost:8080/"
        },
        "id": "YFyodrYMCKbq",
        "outputId": "70b66b38-0c41-4532-f721-e9d75b5f9978"
      },
      "source": [
        "#logical operator\n",
        "#and table\n",
        "print(\"this is and table\")\n",
        "print(True and True) #True\n",
        "print(True and False) #False\n",
        "print(False and True) #False\n",
        "print(False and False) #False\n",
        "\n",
        "print(\"this is or table\")\n",
        "print(True or True) #True\n",
        "print(True or False) #True\n",
        "print(False or True) #True\n",
        "print(False or False) #False\n",
        "\n",
        "myvar1=10\n",
        "myvar2=20\n",
        "mystr1=\"hello\"\n",
        "mystr2=\"hello\"\n",
        "print(myvar1<myvar2 and mystr1 != mystr2) #10<20 and \"hello\"!=\"hello\" - \n",
        "#True and False\n",
        "print(myvar1<myvar2 or mystr1 != mystr2)#10<20 or \"hello\"!=\"hello\"\n",
        "#True or False\n",
        "print(20==20 and 30<40)\n",
        "\n",
        "\n",
        "print(True and True)\n",
        "print(True or False) #True\n",
        "print(not(True or False)) #False\n",
        "\n",
        "print(not(True))\n"
      ],
      "execution_count": null,
      "outputs": [
        {
          "output_type": "stream",
          "text": [
            "this is and table\n",
            "True\n",
            "False\n",
            "False\n",
            "False\n",
            "this is or table\n",
            "True\n",
            "True\n",
            "True\n",
            "False\n",
            "False\n",
            "True\n",
            "True\n",
            "True\n",
            "True\n",
            "False\n"
          ],
          "name": "stdout"
        },
        {
          "output_type": "execute_result",
          "data": {
            "text/plain": [
              "False"
            ]
          },
          "metadata": {
            "tags": []
          },
          "execution_count": 82
        }
      ]
    },
    {
      "cell_type": "code",
      "metadata": {
        "colab": {
          "base_uri": "https://localhost:8080/"
        },
        "id": "nRSWEOxhDySw",
        "outputId": "c117b07a-dfda-4df1-8a12-337c8b626988"
      },
      "source": [
        "print(\"_\"*230)"
      ],
      "execution_count": null,
      "outputs": [
        {
          "output_type": "stream",
          "text": [
            "______________________________________________________________________________________________________________________________________________________________________________________________________________________________________\n"
          ],
          "name": "stdout"
        }
      ]
    },
    {
      "cell_type": "markdown",
      "metadata": {
        "id": "xw507w-343Zt"
      },
      "source": [
        "IDENTITY Operators (is) and (is not)"
      ]
    },
    {
      "cell_type": "code",
      "metadata": {
        "colab": {
          "base_uri": "https://localhost:8080/"
        },
        "id": "UW8fk5uDBFcp",
        "outputId": "b23657b5-ec60-4fce-90a8-912a902fa3a5"
      },
      "source": [
        "#-5 to 256 with in tthis range object hold the data in reserved memory\n",
        "var1=10\n",
        "var2=10\n",
        "print(id(var1))\n",
        "print(id(var2))"
      ],
      "execution_count": null,
      "outputs": [
        {
          "output_type": "stream",
          "text": [
            "93854939171616\n",
            "93854939171616\n"
          ],
          "name": "stdout"
        }
      ]
    },
    {
      "cell_type": "code",
      "metadata": {
        "colab": {
          "base_uri": "https://localhost:8080/"
        },
        "id": "MnQGj_O7BRxO",
        "outputId": "51fe97b8-4f43-4dc6-e6c2-39a28f160fe4"
      },
      "source": [
        "print(var1 == var2)\n",
        "print(var1 is var2)"
      ],
      "execution_count": null,
      "outputs": [
        {
          "output_type": "stream",
          "text": [
            "True\n",
            "True\n",
            "True\n"
          ],
          "name": "stdout"
        }
      ]
    },
    {
      "cell_type": "code",
      "metadata": {
        "colab": {
          "base_uri": "https://localhost:8080/"
        },
        "id": "5LIPPAD5Bv0u",
        "outputId": "f4c1cd1e-c63a-4205-c80a-1ceff64f4ff1"
      },
      "source": [
        "var1=257\n",
        "var2=257\n",
        "print(id(var1))\n",
        "print(id(var2))"
      ],
      "execution_count": null,
      "outputs": [
        {
          "output_type": "stream",
          "text": [
            "140027132261232\n",
            "140027132260656\n"
          ],
          "name": "stdout"
        }
      ]
    },
    {
      "cell_type": "code",
      "metadata": {
        "colab": {
          "base_uri": "https://localhost:8080/"
        },
        "id": "RSLHFlviCA5H",
        "outputId": "fbc06679-f9db-4ced-9397-561cfd39e044"
      },
      "source": [
        "#-5 to 256 \n",
        "print(var1 == var2)\n",
        "print(var1 is var2)\n",
        "#== compares the data\n",
        "#is operator compares the object location in data"
      ],
      "execution_count": null,
      "outputs": [
        {
          "output_type": "stream",
          "text": [
            "True\n",
            "False\n"
          ],
          "name": "stdout"
        }
      ]
    },
    {
      "cell_type": "code",
      "metadata": {
        "colab": {
          "base_uri": "https://localhost:8080/"
        },
        "id": "jdWmVzW_CK-J",
        "outputId": "f55f576e-2fd4-438f-acab-d49a5f2b4d0a"
      },
      "source": [
        "str1=\"hello student good morning\"\n",
        "str2=\"hello student good morning\"\n",
        "print(id(str1))\n",
        "print(id(str2))\n",
        "print(\"comparing with ==\",str1==str2)\n",
        "print(\"comparing with is\",str1 is str2)\n",
        "print(\"comparing with is not for str1 and str2, {0} object same as\\n is not {1} object\".format(str1,str2))"
      ],
      "execution_count": null,
      "outputs": [
        {
          "output_type": "stream",
          "text": [
            "140027132470016\n",
            "140027132295488\n",
            "comparing with == True\n",
            "comparing with is False\n",
            "comparing with is not for str1 and str2, hello student good morning object same as\n",
            " is not hello student good morning object\n"
          ],
          "name": "stdout"
        }
      ]
    },
    {
      "cell_type": "code",
      "metadata": {
        "colab": {
          "base_uri": "https://localhost:8080/"
        },
        "id": "wiBQFctVDolS",
        "outputId": "da0ab717-58e8-40f0-9e9a-da468756a7e4"
      },
      "source": [
        "#condition?result1:result2 (?:)\n",
        "#statement1 if condition else statement2\n",
        "print(True) if True else print(False)\n",
        "print(True) if False else print(False)\n",
        "print(\"condition met both number are same\") if (2==2) else print(\"condition does not met both numbers are not same\")\n",
        "print(10) if True else print(40-20)\n",
        "print(10) if False else print(40-20)\n",
        "x=10 if True else 20\n",
        "print(x**x)"
      ],
      "execution_count": null,
      "outputs": [
        {
          "output_type": "stream",
          "text": [
            "True\n",
            "False\n",
            "condition met both number are same\n",
            "10\n",
            "20\n",
            "10000000000\n"
          ],
          "name": "stdout"
        }
      ]
    },
    {
      "cell_type": "markdown",
      "metadata": {
        "id": "KLDmgHYKHjVw"
      },
      "source": [
        "Now showing tthe examples of Membership operators\n",
        "(in)\n",
        "(not in)\n",
        "\n",
        "\n"
      ]
    },
    {
      "cell_type": "code",
      "metadata": {
        "colab": {
          "base_uri": "https://localhost:8080/"
        },
        "id": "NN1YwPboH1ls",
        "outputId": "a3621b77-a01f-4cfc-aa22-1bc1e9e3c765"
      },
      "source": [
        "\n",
        "print('h' in 'hello')\n",
        "print(10 in [1,2,40])\n",
        "print('name' in {'name':'gaurav','age':20})\n",
        "print('score' not in {'name':'gaurav','age':20})\n",
        "print(40 not in [1,2,40])"
      ],
      "execution_count": null,
      "outputs": [
        {
          "output_type": "stream",
          "text": [
            "True\n",
            "False\n",
            "True\n",
            "True\n",
            "False\n"
          ],
          "name": "stdout"
        }
      ]
    },
    {
      "cell_type": "code",
      "metadata": {
        "colab": {
          "base_uri": "https://localhost:8080/",
          "height": 71
        },
        "id": "87TUXaLWI0IH",
        "outputId": "36f89951-d02b-46c6-9373-a28c952fe464"
      },
      "source": [
        "''' \n",
        "other programming languages have syntax with for if and else blocks\n",
        "\n",
        "print('h' in 'hello')\n",
        "print(10 in [1,2,40])\n",
        "print('name' in {'name':'gaurav','age':20})\n",
        "print('score' not in {'name':'gaurav','age':20})\n",
        "print(40 not in [1,2,40])\n",
        "\n",
        "if(2==2){\n",
        "    print(\"hello world\")\n",
        "}\n",
        "elseif{\n",
        "  new block of code\n",
        "}\n",
        "else{\n",
        "    print(\"hi world\")\n",
        "}\n",
        "\n",
        "if(2==2):BEGIN\n",
        "    print(\"hello world\")\n",
        "END\n",
        "else:BEGIN\n",
        "    print(\"hi world\")\n",
        "END\n",
        "'''"
      ],
      "execution_count": null,
      "outputs": [
        {
          "output_type": "execute_result",
          "data": {
            "application/vnd.google.colaboratory.intrinsic+json": {
              "type": "string"
            },
            "text/plain": [
              "' \\nother programming languages have syntax with for if and else blocks\\n\\nprint(\\'h\\' in \\'hello\\')\\nprint(10 in [1,2,40])\\nprint(\\'name\\' in {\\'name\\':\\'gaurav\\',\\'age\\':20})\\nprint(\\'score\\' not in {\\'name\\':\\'gaurav\\',\\'age\\':20})\\nprint(40 not in [1,2,40])\\n\\nif(2==2){\\n    print(\"hello world\")\\n}\\nelseif{\\n  new block of code\\n}\\nelse{\\n    print(\"hi world\")\\n}\\n\\nif(2==2):BEGIN\\n    print(\"hello world\")\\nEND\\nelse:BEGIN\\n    print(\"hi world\")\\nEND\\n'"
            ]
          },
          "metadata": {
            "tags": []
          },
          "execution_count": 39
        }
      ]
    },
    {
      "cell_type": "code",
      "metadata": {
        "colab": {
          "base_uri": "https://localhost:8080/"
        },
        "id": "1C9mRh-eLA03",
        "outputId": "7ca3ea21-8fc2-49c7-9dcd-f0991f6175ab"
      },
      "source": [
        "#level0\n",
        "if True:\n",
        "  #level1\n",
        "  x=10\n",
        "  print(x)\n",
        "  if False:\n",
        "    #level2\n",
        "    print(y)\n",
        "else:\n",
        "  x=20\n",
        "  print(x)\n",
        "\n"
      ],
      "execution_count": null,
      "outputs": [
        {
          "output_type": "stream",
          "text": [
            "10\n"
          ],
          "name": "stdout"
        }
      ]
    },
    {
      "cell_type": "code",
      "metadata": {
        "colab": {
          "base_uri": "https://localhost:8080/"
        },
        "id": "_JUQix18L3sa",
        "outputId": "87b947c1-c7c0-4329-b9f2-49bd6059bdf9"
      },
      "source": [
        "i=10\n",
        "j=10\n",
        "str1=\"hello\"\n",
        "str2=\"hello\"\n",
        "print(\"we are in normal level or level 0\")\n",
        "if str1==str2:\n",
        "  print(\"we now entered level 1\")\n",
        "  if i==j:\n",
        "    print(\"now we entered level 2\")\n",
        "    j=20\n",
        "    str2=\"students\"\n",
        "    print(\"{0},{1} todays student count increased from {2} to {3}\".format(str1,str2,i,j))\n",
        "    print(\"indentation completed for level2\")\n",
        "  print(\"back to level1\")\n",
        "  print(\"indentation completed\")\n",
        "\n",
        "  \n",
        "print(\"back to level0\")\n",
        "\n"
      ],
      "execution_count": null,
      "outputs": [
        {
          "output_type": "stream",
          "text": [
            "we are in normal level or level 0\n",
            "we now entered level 1\n",
            "now we entered level 2\n",
            "hello,students todays student count increased from 10 to 20\n",
            "indentation completed for level2\n",
            "back to level1\n",
            "indentation completed\n",
            "back to level0\n"
          ],
          "name": "stdout"
        }
      ]
    },
    {
      "cell_type": "code",
      "metadata": {
        "colab": {
          "base_uri": "https://localhost:8080/"
        },
        "id": "AHbYinKNOXF2",
        "outputId": "35c5cd27-29a3-44e6-beee-a7ba55f56ab9"
      },
      "source": [
        "cust=\"Gaurav\"\n",
        "cust_age=int(input(\"hello {}, please enter your age:\".format(cust)))\n",
        "\n",
        "if cust_age < 18:print(\"dear {}, you are not allowed inside\".format(cust))\n",
        "\n",
        "if cust_age < 18:\n",
        "  print(\"dear {}, you are not allowed inside\".format(cust))"
      ],
      "execution_count": null,
      "outputs": [
        {
          "output_type": "stream",
          "text": [
            "hello Gaurav, please enter your age:20\n"
          ],
          "name": "stdout"
        }
      ]
    },
    {
      "cell_type": "code",
      "metadata": {
        "colab": {
          "base_uri": "https://localhost:8080/"
        },
        "id": "YwcrwV7pQDs5",
        "outputId": "828bb7b4-4e6f-4c37-8159-687d0330caa9"
      },
      "source": [
        "cust=\"Gaurav\"\n",
        "cust_age=int(input(\"hello {}, please enter your age:\".format(cust)))\n",
        "\n",
        "if cust_age < 18:print(\"dear {}, you are not allowed inside\".format(cust))\n",
        "\n",
        "if cust_age < 18:\n",
        "  print(\"dear {}, you are not allowed inside\".format(cust))\n",
        "else:\n",
        "  print(\"dear {}, please come inside\".format(cust))\n"
      ],
      "execution_count": null,
      "outputs": [
        {
          "output_type": "stream",
          "text": [
            "hello Gaurav, please enter your age:20\n",
            "dear Gaurav, please come inside\n"
          ],
          "name": "stdout"
        }
      ]
    }
  ]
}