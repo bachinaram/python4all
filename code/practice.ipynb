{
  "metadata": {
    "language_info": {
      "codemirror_mode": {
        "name": "python",
        "version": 3
      },
      "file_extension": ".py",
      "mimetype": "text/x-python",
      "name": "python",
      "nbconvert_exporter": "python",
      "pygments_lexer": "ipython3",
      "version": "3.8"
    },
    "kernelspec": {
      "name": "python",
      "display_name": "Python (Pyodide)",
      "language": "python"
    }
  },
  "nbformat_minor": 4,
  "nbformat": 4,
  "cells": [
    {
      "cell_type": "markdown",
      "source": "How to create a dictionary two ways",
      "metadata": {}
    },
    {
      "cell_type": "code",
      "source": "mydict1 = {\n    \"name\":\"max\",\n    \"age\":33,\n    \"city\":\"mississauga\"\n         }\nprint(mydict)",
      "metadata": {
        "trusted": true
      },
      "execution_count": 48,
      "outputs": [
        {
          "name": "stdout",
          "text": "{'key': 'max', 'age': '33', 'city': 'mississauga'}\n",
          "output_type": "stream"
        }
      ]
    },
    {
      "cell_type": "code",
      "source": "#How to create a dictionary WAY 2\nmydict2 = dict(name=\"ram\",age=33,city=\"Newyork\")\nprint(mydict2)",
      "metadata": {
        "trusted": true
      },
      "execution_count": 49,
      "outputs": [
        {
          "name": "stdout",
          "text": "{'name': 'ram', 'age': 33, 'city': 'Newyork'}\n",
          "output_type": "stream"
        }
      ]
    },
    {
      "cell_type": "markdown",
      "source": "Access dictionary values using the keys",
      "metadata": {}
    },
    {
      "cell_type": "code",
      "source": "print(\"Name is :\",mydict2[\"name\"])\nvariable1 = mydict1[\"age\"]\nprint(\"Age is :\", variable1)",
      "metadata": {
        "trusted": true
      },
      "execution_count": 50,
      "outputs": [
        {
          "name": "stdout",
          "text": "Name is : ram\nAge is : 33\n",
          "output_type": "stream"
        }
      ]
    },
    {
      "cell_type": "markdown",
      "source": "How to change the values in the dictionary",
      "metadata": {}
    },
    {
      "cell_type": "code",
      "source": "mydict1[\"name\"]=\"maxy\"\nprint(mydict1)",
      "metadata": {
        "trusted": true
      },
      "execution_count": 51,
      "outputs": [
        {
          "name": "stdout",
          "text": "{'name': 'maxy', 'age': 33, 'city': 'mississauga'}\n",
          "output_type": "stream"
        }
      ]
    },
    {
      "cell_type": "markdown",
      "source": "Add new key pair to existing dictionary",
      "metadata": {}
    },
    {
      "cell_type": "code",
      "source": "mydict1[\"email\"]=\"hello@gmail.com\"\nprint(mydict1)",
      "metadata": {
        "trusted": true
      },
      "execution_count": 52,
      "outputs": [
        {
          "name": "stdout",
          "text": "{'name': 'maxy', 'age': 33, 'city': 'mississauga', 'email': 'hello@gmail.com'}\n",
          "output_type": "stream"
        }
      ]
    },
    {
      "cell_type": "markdown",
      "source": "Deleting key value pairs from the dictionary",
      "metadata": {}
    },
    {
      "cell_type": "code",
      "source": "del mydict1[\"email\"]\nprint(mydict1)\n\nmydict1[\"mobile\"]=99088\nprint(mydict1)\n\nmydict1.pop(\"mobile\") # we can alsoo remove using the pop method\nprint(mydict1)\n\nmydict1[\"address\"]=\"miss road, ca\"\nprint(mydict1)\n\nmydict1.popitem() #deletes the latest inserted item\nprint(mydict1)",
      "metadata": {
        "trusted": true
      },
      "execution_count": 53,
      "outputs": [
        {
          "name": "stdout",
          "text": "{'name': 'maxy', 'age': 33, 'city': 'mississauga'}\n{'name': 'maxy', 'age': 33, 'city': 'mississauga', 'mobile': 99088}\n{'name': 'maxy', 'age': 33, 'city': 'mississauga'}\n{'name': 'maxy', 'age': 33, 'city': 'mississauga', 'address': 'miss road, ca'}\n{'name': 'maxy', 'age': 33, 'city': 'mississauga'}\n",
          "output_type": "stream"
        }
      ]
    },
    {
      "cell_type": "markdown",
      "source": "Check if the key exists or not in dictionary in two ways",
      "metadata": {}
    },
    {
      "cell_type": "code",
      "source": "if \"name\" in mydict1:\n    print(\"Key NAME exists and its value is: \",mydict1[\"name\"])\nelse:\n    print(\"key does not exists\")\n    \n    \ntry:\n    print(mydict1[\"address\"])\nexcept:\n    print(\"Key does not exists please proceed creating new key\")\n",
      "metadata": {
        "trusted": true
      },
      "execution_count": 58,
      "outputs": [
        {
          "name": "stdout",
          "text": "Key NAME exists and its value is:  maxy\nKey does not exists please proceed creating new key\n",
          "output_type": "stream"
        }
      ]
    },
    {
      "cell_type": "markdown",
      "source": "Looping through the dictionary",
      "metadata": {}
    },
    {
      "cell_type": "code",
      "source": "for key in mydict1:\n    print(key)",
      "metadata": {
        "trusted": true
      },
      "execution_count": 59,
      "outputs": [
        {
          "name": "stdout",
          "text": "name\nage\ncity\n",
          "output_type": "stream"
        }
      ]
    },
    {
      "cell_type": "code",
      "source": "for k in mydict1.keys():\n    print(k)",
      "metadata": {
        "trusted": true
      },
      "execution_count": 60,
      "outputs": [
        {
          "name": "stdout",
          "text": "name\nage\ncity\n",
          "output_type": "stream"
        }
      ]
    },
    {
      "cell_type": "code",
      "source": "for val in mydict1.values():\n    print(val)\n    \n    \nprint(\"==============\")\nfor val in mydict1.values():\n    print(val, end=\" \")",
      "metadata": {
        "trusted": true
      },
      "execution_count": 66,
      "outputs": [
        {
          "name": "stdout",
          "text": "maxy\n33\nmississauga\n==============\nmaxy 33 mississauga ",
          "output_type": "stream"
        }
      ]
    },
    {
      "cell_type": "code",
      "source": "for k,v in mydict1.items():\n    print(k,v)\n    ",
      "metadata": {
        "trusted": true
      },
      "execution_count": 69,
      "outputs": [
        {
          "name": "stdout",
          "text": "name maxy\nage 33\ncity mississauga\n",
          "output_type": "stream"
        }
      ]
    },
    {
      "cell_type": "markdown",
      "source": "Create new dictionary is two ways",
      "metadata": {}
    },
    {
      "cell_type": "code",
      "source": "mydict3 = dict(mydict1)\nmydict4 = mydict1.copy()\nprint(mydict3)\nprint(mydict4)",
      "metadata": {
        "trusted": true
      },
      "execution_count": 73,
      "outputs": [
        {
          "name": "stdout",
          "text": "{'name': 'maxy', 'age': 33, 'city': 'mississauga'}\n{'name': 'maxy', 'age': 33, 'city': 'mississauga'}\n",
          "output_type": "stream"
        }
      ]
    },
    {
      "cell_type": "markdown",
      "source": "Update the existing dictionary or merge",
      "metadata": {}
    },
    {
      "cell_type": "code",
      "source": "mydict1.update(mydict2)\nprint(mydict1)",
      "metadata": {
        "trusted": true
      },
      "execution_count": 74,
      "outputs": [
        {
          "name": "stdout",
          "text": "{'name': 'ram', 'age': 33, 'city': 'Newyork'}\n",
          "output_type": "stream"
        }
      ]
    },
    {
      "cell_type": "code",
      "source": "mydict1[\"address\"]=\"3267 parkview road\"\nprint(mydict1)\n\n#with update method if both dict have same keys then it will udpate extra keys will be merged \nmydict1.update(mydict3)\nprint(mydict1)",
      "metadata": {
        "trusted": true
      },
      "execution_count": 75,
      "outputs": [
        {
          "name": "stdout",
          "text": "{'name': 'ram', 'age': 33, 'city': 'Newyork', 'address': '3267 parkview road'}\n{'name': 'maxy', 'age': 33, 'city': 'mississauga', 'address': '3267 parkview road'}\n",
          "output_type": "stream"
        }
      ]
    },
    {
      "cell_type": "markdown",
      "source": "We can create tuple as keys but not the list, because list is mutable",
      "metadata": {}
    },
    {
      "cell_type": "code",
      "source": "tup_variable = (5,6)\nmydict5={\n    tup_variable:\"rolls\"\n}\n\nprint(mydict5)",
      "metadata": {
        "trusted": true
      },
      "execution_count": 76,
      "outputs": [
        {
          "name": "stdout",
          "text": "{(5, 6): 'rolls'}\n",
          "output_type": "stream"
        }
      ]
    },
    {
      "cell_type": "code",
      "source": "",
      "metadata": {},
      "execution_count": null,
      "outputs": []
    }
  ]
}