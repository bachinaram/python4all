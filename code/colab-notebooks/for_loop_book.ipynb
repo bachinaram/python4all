{
  "nbformat": 4,
  "nbformat_minor": 0,
  "metadata": {
    "colab": {
      "name": "for_loop_book.ipynb",
      "provenance": [],
      "authorship_tag": "ABX9TyM1lTjf3FBk46+X16tAbnLj",
      "include_colab_link": true
    },
    "kernelspec": {
      "name": "python3",
      "display_name": "Python 3"
    },
    "language_info": {
      "name": "python"
    }
  },
  "cells": [
    {
      "cell_type": "markdown",
      "metadata": {
        "id": "view-in-github",
        "colab_type": "text"
      },
      "source": [
        "<a href=\"https://colab.research.google.com/github/bachinaram/python4all/blob/main/for_loop_book.ipynb\" target=\"_parent\"><img src=\"https://colab.research.google.com/assets/colab-badge.svg\" alt=\"Open In Colab\"/></a>"
      ]
    },
    {
      "cell_type": "code",
      "metadata": {
        "colab": {
          "base_uri": "https://localhost:8080/"
        },
        "id": "OL-be6m1bdUW",
        "outputId": "ca9e7258-9473-48b8-b28f-241d2b0c8e08"
      },
      "source": [
        "name"
      ],
      "execution_count": null,
      "outputs": [
        {
          "output_type": "execute_result",
          "data": {
            "text/plain": [
              "5"
            ]
          },
          "metadata": {
            "tags": []
          },
          "execution_count": 3
        }
      ]
    },
    {
      "cell_type": "code",
      "metadata": {
        "id": "X7SVcoRrdv3f",
        "colab": {
          "base_uri": "https://localhost:8080/"
        },
        "outputId": "e655c9f0-fb55-4246-8292-2025944def01"
      },
      "source": [
        "name=\"Gaurav\"\n",
        "my_list=[1,2,3,'Gaurav']\n",
        "\n",
        "#for eachcharacter in 'gaurav'\n",
        "for i in name:\n",
        "  print(i)\n",
        "\n",
        "print()\n",
        "\n",
        "for eachChar in name:\n",
        "  print(eachChar)\n",
        "\n",
        "print()\n",
        "#we can use direct sequence data or data(sequence) assigned to variable\n",
        "for j in \"Pavan\":\n",
        "  print(j)\n",
        "print()\n"
      ],
      "execution_count": null,
      "outputs": [
        {
          "output_type": "stream",
          "text": [
            "G\n",
            "a\n",
            "u\n",
            "r\n",
            "a\n",
            "v\n",
            "\n",
            "G\n",
            "a\n",
            "u\n",
            "r\n",
            "a\n",
            "v\n",
            "\n",
            "P\n",
            "a\n",
            "v\n",
            "a\n",
            "n\n"
          ],
          "name": "stdout"
        }
      ]
    },
    {
      "cell_type": "code",
      "metadata": {
        "colab": {
          "base_uri": "https://localhost:8080/"
        },
        "id": "cyWWpOqlbsTP",
        "outputId": "dec3bada-c00b-4dd7-e3d7-d38ab1d82a5c"
      },
      "source": [
        "#for eachcharacter in 'gaurav'\n",
        "name=\"Pavan\"\n",
        "print(name)\n",
        "for i in name:\n",
        "  print(i,end='')\n"
      ],
      "execution_count": null,
      "outputs": [
        {
          "output_type": "stream",
          "text": [
            "Pavan\n",
            "Pavan"
          ],
          "name": "stdout"
        }
      ]
    },
    {
      "cell_type": "code",
      "metadata": {
        "id": "TioxOM8zfkA-",
        "colab": {
          "base_uri": "https://localhost:8080/"
        },
        "outputId": "04da5b4c-ece9-4168-8a1f-c92a7e66dc41"
      },
      "source": [
        "my_list=[1,2,3,'Gaurav']\n",
        "for eachElement in my_list:\n",
        "  print(eachElement)\n",
        "\n",
        "\n",
        "for eachElement in my_list:\n",
        "  print(eachElement,end='')\n",
        "\n",
        "print()\n",
        "\n",
        "my_tuple=(4,2,3,'Pavan')\n",
        "for j in my_tuple:\n",
        "  print(j)"
      ],
      "execution_count": null,
      "outputs": [
        {
          "output_type": "stream",
          "text": [
            "1\n",
            "2\n",
            "3\n",
            "Gaurav\n",
            "123Gaurav\n",
            "4\n",
            "2\n",
            "3\n",
            "Pavan\n"
          ],
          "name": "stdout"
        }
      ]
    },
    {
      "cell_type": "code",
      "metadata": {
        "id": "b5XlPvA-gcCi",
        "colab": {
          "base_uri": "https://localhost:8080/"
        },
        "outputId": "e465579d-e28d-4834-a132-fbddd8a3e873"
      },
      "source": [
        "#range(10) 0-10, total 11 number always starts\n",
        "for eachNumber in range(11):\n",
        "  print(eachNumber,end='')\n",
        "\n",
        "print()\n",
        "\n",
        "for i in range(5,11):\n",
        "  print(i,end='')\n",
        "\n",
        "print()\n",
        "\n",
        "for i in range(5,12):\n",
        "  print(i)\n",
        "print()\n",
        "\n",
        "2,4,6,8,10\n",
        "for l in range(1,11,2):\n",
        "  print(l)\n",
        "print()\n",
        "\n",
        "for m in range(1,11,3):\n",
        "  print(m,end='')\n",
        "print()"
      ],
      "execution_count": null,
      "outputs": [
        {
          "output_type": "stream",
          "text": [
            "012345678910\n",
            "5678910\n",
            "5\n",
            "6\n",
            "7\n",
            "8\n",
            "9\n",
            "10\n",
            "11\n",
            "\n",
            "1\n",
            "3\n",
            "5\n",
            "7\n",
            "9\n",
            "\n",
            "14710\n"
          ],
          "name": "stdout"
        }
      ]
    },
    {
      "cell_type": "code",
      "metadata": {
        "id": "0LoyBwyth72I",
        "colab": {
          "base_uri": "https://localhost:8080/"
        },
        "outputId": "d9a62092-8f7a-4994-a4cb-b96a046b0cf3"
      },
      "source": [
        "#when iterating over dictionary it will iterate over keys\n",
        "my_dict1={\n",
        "    \"name\":\"Gaurav\",\n",
        "    \"age\":20,\n",
        "    \"marks\":56\n",
        "    }\n",
        "print(\"Keys are :\",end=\"\")\n",
        "for eachElement in my_dict1:\n",
        "  print(eachElement,\"\",end='')\n",
        "\n"
      ],
      "execution_count": null,
      "outputs": [
        {
          "output_type": "stream",
          "text": [
            "Keys are :Gaurav 20 56 "
          ],
          "name": "stdout"
        }
      ]
    },
    {
      "cell_type": "code",
      "metadata": {
        "id": "XZsKXo0wkgNe",
        "colab": {
          "base_uri": "https://localhost:8080/"
        },
        "outputId": "2904ff24-5123-4d0c-d91c-ae678f34f5dd"
      },
      "source": [
        "#find the tottal of student marks\n",
        "students_marks=[50,98,67,89,69,77]\n",
        "'''\n",
        "50 asisin this to some temp variablke\n",
        "now get new which is 98\n",
        "50+98\n",
        "add the result temp value\n",
        "'''\n",
        "temp=0\n",
        "for score in students_marks:\n",
        "  temp=temp+score\n",
        "  #temp=0+50 temp=50\n",
        "  #temp=50+98 temp=148\n",
        "  #temp=148+67 temp=2 hundred's\n",
        "  #temp=2hunderes+89 temp\n",
        "  #...\n",
        "  #....\n",
        "print(\"Gaurav your total score is\",temp)\n",
        "print(\"your percentage is\",temp/6)\n",
        "print(\"your percentage is\",temp/len(students_marks),\"%\")\n",
        "\n",
        "450/6\n",
        "print(len(\"hello\"))\n",
        "print(len([50,98,67,89,69,77]))"
      ],
      "execution_count": null,
      "outputs": [
        {
          "output_type": "stream",
          "text": [
            "Gaurav your total score is 450\n",
            "your percentage is 75.0\n",
            "your percentage is 75.0 %\n",
            "5\n",
            "6\n"
          ],
          "name": "stdout"
        }
      ]
    },
    {
      "cell_type": "code",
      "metadata": {
        "id": "XQQaZMgNl9ir",
        "colab": {
          "base_uri": "https://localhost:8080/"
        },
        "outputId": "4582c612-d81b-4c5b-d5b0-107305296844"
      },
      "source": [
        "\"\"\"my_list=[1,2,3,'Gaurav']\n",
        "for eachElement in my_list:\n",
        "  print(eachElement)\"\"\"\n",
        "'''\n",
        "mylist1=[[1,2,3], [4,5,6], [8,9,10.7384]]\n",
        "for eachList in mylist1:\n",
        "  print(eachList)'''\n",
        "\n",
        "mylist1=[[1,2,3], [4,5,6], [8,9,10.7384]]\n",
        "for eachList1 in mylist1:\n",
        "  print(eachList1)\n",
        "  for eachValue in eachList1:\n",
        "    print(eachValue)\n"
      ],
      "execution_count": null,
      "outputs": [
        {
          "output_type": "stream",
          "text": [
            "[1, 2, 3]\n",
            "1\n",
            "2\n",
            "3\n",
            "[4, 5, 6]\n",
            "4\n",
            "5\n",
            "6\n",
            "[8, 9, 10.7384]\n",
            "8\n",
            "9\n",
            "10.7384\n"
          ],
          "name": "stdout"
        }
      ]
    },
    {
      "cell_type": "code",
      "metadata": {
        "id": "AEmZ7R1LoQz4",
        "colab": {
          "base_uri": "https://localhost:8080/"
        },
        "outputId": "5d0ac364-7bd6-4e80-e89c-4de1e4201f5f"
      },
      "source": [
        "#540 table output\n",
        "for i in range(1,11):\n",
        "  print(\"540 * {} = \".format(i),540*i)"
      ],
      "execution_count": null,
      "outputs": [
        {
          "output_type": "stream",
          "text": [
            "540 * 1 =  540\n",
            "540 * 2 =  1080\n",
            "540 * 3 =  1620\n",
            "540 * 4 =  2160\n",
            "540 * 5 =  2700\n",
            "540 * 6 =  3240\n",
            "540 * 7 =  3780\n",
            "540 * 8 =  4320\n",
            "540 * 9 =  4860\n",
            "540 * 10 =  5400\n"
          ],
          "name": "stdout"
        }
      ]
    },
    {
      "cell_type": "code",
      "metadata": {
        "id": "hQ1S8SZsq-IO",
        "colab": {
          "base_uri": "https://localhost:8080/"
        },
        "outputId": "566ba300-117e-4e9a-cc49-846ce0e82c8e"
      },
      "source": [
        "'''\n",
        "*\n",
        "**\n",
        "***\n",
        "****\n",
        "*****\n",
        "'''\n",
        "'''\n",
        "i=1, range(1)=0\n",
        "i=2, range(2)=0,1\n",
        "i=3, range(3)=0,1,2\n",
        "i=4, range(4)=0,1,2,3\n",
        "i=5, range(5)=0,1,2,3,4\n",
        "'''\n",
        "\n",
        "for i in range(1,6):\n",
        "  for j in range(i):\n",
        "    print('*',end=\"\")\n",
        "  print()\n"
      ],
      "execution_count": null,
      "outputs": [
        {
          "output_type": "stream",
          "text": [
            "*\n",
            "**\n",
            "***\n",
            "****\n",
            "*****\n"
          ],
          "name": "stdout"
        }
      ]
    },
    {
      "cell_type": "markdown",
      "metadata": {
        "id": "eDXCOwu1tLmC"
      },
      "source": [
        "### We are going to see more examples of FOR, FOR and IF combine, usage of PASS, BREAK, CONTINUE\n",
        "\n"
      ]
    },
    {
      "cell_type": "code",
      "metadata": {
        "colab": {
          "base_uri": "https://localhost:8080/"
        },
        "id": "ffyccBd0tbXE",
        "outputId": "6c4fd4ac-51d3-4447-ca18-9fe1a6cf06f5"
      },
      "source": [
        "#1 to 100 print 10, 20 30 40 100\n",
        "#100 ,90 10 print in reverse\n",
        "for eachValue in range(10,110,10):\n",
        "  print(eachValue)\n",
        "\n",
        "print()\n",
        "for i in range(100,0,-10):\n",
        "  print(i)"
      ],
      "execution_count": 8,
      "outputs": [
        {
          "output_type": "stream",
          "text": [
            "10\n",
            "20\n",
            "30\n",
            "40\n",
            "50\n",
            "60\n",
            "70\n",
            "80\n",
            "90\n",
            "100\n",
            "\n",
            "100\n",
            "90\n",
            "80\n",
            "70\n",
            "60\n",
            "50\n",
            "40\n",
            "30\n",
            "20\n"
          ],
          "name": "stdout"
        }
      ]
    },
    {
      "cell_type": "code",
      "metadata": {
        "colab": {
          "base_uri": "https://localhost:8080/"
        },
        "id": "nt-gm6fMu2eR",
        "outputId": "2b009de6-06d9-4c66-91aa-9f0c44f3308f"
      },
      "source": [
        "for eachValue in range(10,110,10):\n",
        "  if eachValue == 100:\n",
        "    print(eachValue,\"- front benchers\")\n",
        "  elif eachValue >= 80:\n",
        "    print(eachValue,\"- friends of front benchers\")\n",
        "  elif eachValue > 40 and eachValue <80:\n",
        "    print(eachValue,\"- most successful people in life\")\n",
        "  else:\n",
        "    print(eachValue,\"- You need find your passion\")\n",
        "\n"
      ],
      "execution_count": 9,
      "outputs": [
        {
          "output_type": "stream",
          "text": [
            "10 You need find your passion\n",
            "20 You need find your passion\n",
            "30 You need find your passion\n",
            "40 You need find your passion\n",
            "50 - most successful people in life\n",
            "60 - most successful people in life\n",
            "70 - most successful people in life\n",
            "80 - friends of front benchers\n",
            "90 - friends of front benchers\n",
            "100 - front benchers\n"
          ],
          "name": "stdout"
        }
      ]
    },
    {
      "cell_type": "code",
      "metadata": {
        "colab": {
          "base_uri": "https://localhost:8080/"
        },
        "id": "U12A_63UxR7b",
        "outputId": "07473861-77f9-4e77-ce93-c83934a308c9"
      },
      "source": [
        "#factorial program\n",
        "#10 = 1*2*3*4*5*6*7*8*9*10\n",
        "#4 = 4*3*2*1\n",
        "#0 and 1 = 1\n",
        "#-8 = no factorial\n",
        "\n",
        "#1st loop fa = 1\n",
        "#output variable =1\n",
        "#output = 1*1\n",
        "#output = 1\n",
        "\n",
        "#2nd loop fa =2\n",
        "#2*1\n",
        "#output=2\n",
        "\n",
        "#3rd loop fa =3 \n",
        "#3*2\n",
        "#output =6\n",
        "[1,2,3,4,5]\n",
        "[\"hello\",1,3.5,\"sttudentt\"]\n",
        "fact_number = int(input(\"Enter any number:\"))\n",
        "output=1\n",
        "if fact_number < 0:\n",
        "  print(\"there is no factorial for this number\")\n",
        "elif fact_number == 0 or fact_number == 1:\n",
        "  print(\"factorial for number {} is always 1\".format(fact_number))\n",
        "else:\n",
        "  for fa in range(1,fact_number+1):\n",
        "    output = fa*output\n",
        "  print(\"The factorial of number {0} is {1}\".format(fact_number,output))\n",
        "\n"
      ],
      "execution_count": 21,
      "outputs": [
        {
          "output_type": "stream",
          "text": [
            "Enter any number:-1\n",
            "there is no factorial for this number\n"
          ],
          "name": "stdout"
        }
      ]
    },
    {
      "cell_type": "code",
      "metadata": {
        "colab": {
          "base_uri": "https://localhost:8080/"
        },
        "id": "BLPeIkapyV2e",
        "outputId": "9e0ec52c-96e8-4cd4-8745-72e538d3f403"
      },
      "source": [
        "#cube sum\n",
        "#input as 4\n",
        "#1**3 + 2 **3 + 3**3 + 4**3 \n",
        "result=0\n",
        "cube_number = int(input(\"enter your number:\"))\n",
        "for num in range(1,cube_number+1):\n",
        "  result=(num**3)+result\n",
        "print(result)"
      ],
      "execution_count": 22,
      "outputs": [
        {
          "output_type": "stream",
          "text": [
            "enter your number:4\n",
            "100\n"
          ],
          "name": "stdout"
        }
      ]
    },
    {
      "cell_type": "code",
      "metadata": {
        "id": "ne_SjLnI4Dy2",
        "outputId": "d1c9a8b7-d6d5-4e96-d32d-0230475589bc",
        "colab": {
          "base_uri": "https://localhost:8080/"
        }
      },
      "source": [
        "for eachChar in \"studentts\":\n",
        "  if eachChar == 'd':\n",
        "    break\n",
        "  print(eachChar)"
      ],
      "execution_count": 28,
      "outputs": [
        {
          "output_type": "stream",
          "text": [
            "s\n",
            "t\n",
            "u\n"
          ],
          "name": "stdout"
        }
      ]
    },
    {
      "cell_type": "code",
      "metadata": {
        "id": "jX_Y2CLx4z46",
        "outputId": "3235265c-7ca7-4d23-fb36-7d950e5fc22d",
        "colab": {
          "base_uri": "https://localhost:8080/"
        }
      },
      "source": [
        "for eachChar in \"studentts\":\n",
        "  if eachChar == 'd':\n",
        "    continue\n",
        "  print(eachChar)"
      ],
      "execution_count": 29,
      "outputs": [
        {
          "output_type": "stream",
          "text": [
            "s\n",
            "t\n",
            "u\n",
            "e\n",
            "n\n",
            "t\n",
            "t\n",
            "s\n"
          ],
          "name": "stdout"
        }
      ]
    },
    {
      "cell_type": "code",
      "metadata": {
        "id": "Ec-AN2RQ5OQq",
        "outputId": "080200f2-9b5b-45b9-9375-a31e60d9cfc3",
        "colab": {
          "base_uri": "https://localhost:8080/"
        }
      },
      "source": [
        "for eachChar in \"students\":\n",
        "  if eachChar == 's':\n",
        "    continue\n",
        "    print(eachChar)\n",
        "  elif eachChar == 'd':\n",
        "    break\n",
        "    print(eachChar)\n",
        "  else:\n",
        "    print(eachChar)\n",
        "\n",
        "  print(\"Hello\")"
      ],
      "execution_count": 36,
      "outputs": [
        {
          "output_type": "stream",
          "text": [
            "t\n",
            "Hello\n",
            "u\n",
            "Hello\n"
          ],
          "name": "stdout"
        }
      ]
    },
    {
      "cell_type": "code",
      "metadata": {
        "id": "eM4oq1zG5uoI",
        "outputId": "a52a0fa1-dc0d-4404-88fe-7292842eda6e",
        "colab": {
          "base_uri": "https://localhost:8080/"
        }
      },
      "source": [
        "#sum of positive number\n",
        "#[10,20,-8,-7,4,5,-3]\n",
        "#+ve number 10,20,4,5\n",
        "#10+20+4+5\n",
        "output=0\n",
        "numbers= [-10,10,20,-8,-7,4,5,-3]\n",
        "for num in numbers:\n",
        "  if num < 0:\n",
        "    continue\n",
        "  output +=num #output = num+output #  a=a+b #a+=b\n",
        "print(\"The sum of positive numbers is\",output)\n",
        "  \n",
        "\n"
      ],
      "execution_count": 37,
      "outputs": [
        {
          "output_type": "stream",
          "text": [
            "The sum of positive numbers is 39\n"
          ],
          "name": "stdout"
        }
      ]
    },
    {
      "cell_type": "code",
      "metadata": {
        "id": "Je9qqXYs8YOX",
        "outputId": "0948ded4-966f-4575-dd6b-14df11a8a7fd",
        "colab": {
          "base_uri": "https://localhost:8080/"
        }
      },
      "source": [
        "#sum sequence with even number only, if odd number found exit the program\n",
        "numbers1= [-10,10,20,-8,-7,4,5,-3]\n",
        "numbers2= [-10,10,20,-8,4]\n",
        "output=0\n",
        "for num in numbers1:\n",
        "  if num%2!=0:\n",
        "    print(\"This sequence has odd number\")\n",
        "    break\n",
        "  else:\n",
        "    output += num\n",
        "\n",
        "\n",
        "\n",
        "\n"
      ],
      "execution_count": 41,
      "outputs": [
        {
          "output_type": "stream",
          "text": [
            "This sequence has odd number\n"
          ],
          "name": "stdout"
        }
      ]
    },
    {
      "cell_type": "code",
      "metadata": {
        "id": "qPqKmDu29i_f",
        "outputId": "4d0e7474-eff0-467a-bdc1-0bde6db446b2",
        "colab": {
          "base_uri": "https://localhost:8080/"
        }
      },
      "source": [
        "my_list=[[1,2,3],[4,5,6],[7,8,9]]\n",
        "for list in my_list:\n",
        "  print(list)\n",
        "  for value in list:\n",
        "    if value%2==0:\n",
        "      #continue\n",
        "      break\n",
        "    print(value)"
      ],
      "execution_count": 45,
      "outputs": [
        {
          "output_type": "stream",
          "text": [
            "[1, 2, 3]\n",
            "1\n",
            "[4, 5, 6]\n",
            "[7, 8, 9]\n",
            "7\n"
          ],
          "name": "stdout"
        }
      ]
    },
    {
      "cell_type": "code",
      "metadata": {
        "id": "nAwjuo9g-bpT",
        "outputId": "4f19b1e1-cf56-4834-8e59-f92895489d6b",
        "colab": {
          "base_uri": "https://localhost:8080/"
        }
      },
      "source": [
        "#[i for i in range(2,6)]\n",
        "\n",
        "\n",
        "my_list = [i for i in range(2,6)]\n",
        "print(my_list)\n",
        "\n",
        "'''\n",
        "my_list1=[]\n",
        "for i in range(2,6):\n",
        "  my_list1.append(i)\n",
        "print(my_list1)\n",
        "'''"
      ],
      "execution_count": 52,
      "outputs": [
        {
          "output_type": "stream",
          "text": [
            "[2, 3, 4, 5]\n",
            "[2, 3, 4, 5]\n"
          ],
          "name": "stdout"
        }
      ]
    },
    {
      "cell_type": "code",
      "metadata": {
        "id": "8CA8GsOs_p0t",
        "outputId": "32d1466f-477c-4639-c3f0-336099ee44a9",
        "colab": {
          "base_uri": "https://localhost:8080/"
        }
      },
      "source": [
        "my_list = [i*i for i in range(2,6)]\n",
        "print(my_list)"
      ],
      "execution_count": 50,
      "outputs": [
        {
          "output_type": "stream",
          "text": [
            "[4, 9, 16, 25]\n"
          ],
          "name": "stdout"
        }
      ]
    },
    {
      "cell_type": "code",
      "metadata": {
        "id": "JoN-TJYyAYjq",
        "outputId": "5e94a0e6-49c8-468a-daf8-6af85dc31d77",
        "colab": {
          "base_uri": "https://localhost:8080/"
        }
      },
      "source": [
        "my_list = [i*i for i in range(2,6) if(i%2 == 0)]\n",
        "print(my_list)"
      ],
      "execution_count": 54,
      "outputs": [
        {
          "output_type": "stream",
          "text": [
            "[4, 16]\n"
          ],
          "name": "stdout"
        }
      ]
    },
    {
      "cell_type": "code",
      "metadata": {
        "id": "kyAhEWwwA_Ge"
      },
      "source": [
        ""
      ],
      "execution_count": null,
      "outputs": []
    }
  ]
}